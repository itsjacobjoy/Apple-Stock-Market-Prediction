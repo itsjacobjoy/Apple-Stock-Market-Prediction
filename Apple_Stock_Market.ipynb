{
  "nbformat": 4,
  "nbformat_minor": 0,
  "metadata": {
    "colab": {
      "provenance": [],
      "gpuType": "T4"
    },
    "kernelspec": {
      "name": "python3",
      "display_name": "Python 3"
    },
    "language_info": {
      "name": "python"
    },
    "accelerator": "GPU",
    "gpuClass": "standard"
  },
  "cells": [
    {
      "cell_type": "code",
      "execution_count": 1,
      "metadata": {
        "id": "vfeAtCx9OK4d"
      },
      "outputs": [],
      "source": [
        "import tensorflow as tf\n",
        "gpus = tf.config.experimental.list_physical_devices('GPU')\n",
        "for gpu in gpus:\n",
        "  tf.config.experimental.set_memory_growth(gpu,True)"
      ]
    },
    {
      "cell_type": "code",
      "source": [
        "gpus"
      ],
      "metadata": {
        "colab": {
          "base_uri": "https://localhost:8080/"
        },
        "id": "JFmmAmaaOqGi",
        "outputId": "5fd814a9-ea2e-4fdf-ad82-2e0bdce6f4d7"
      },
      "execution_count": 2,
      "outputs": [
        {
          "output_type": "execute_result",
          "data": {
            "text/plain": [
              "[PhysicalDevice(name='/physical_device:GPU:0', device_type='GPU')]"
            ]
          },
          "metadata": {},
          "execution_count": 2
        }
      ]
    },
    {
      "cell_type": "code",
      "source": [
        "#Importing Libraries\n",
        "import numpy as np\n",
        "import pandas as pd\n",
        "\n",
        "%matplotlib inline\n",
        "from sklearn import metrics"
      ],
      "metadata": {
        "id": "tqjLh-4ROsxT"
      },
      "execution_count": 4,
      "outputs": []
    },
    {
      "cell_type": "code",
      "source": [
        "# Set the random seed for reproducibility\n",
        "from numpy.random import seed\n",
        "\n",
        "seed(1)\n",
        "from tensorflow import random\n",
        "\n",
        "random.set_seed(2)"
      ],
      "metadata": {
        "id": "pKmccqgkOxty"
      },
      "execution_count": 5,
      "outputs": []
    },
    {
      "cell_type": "code",
      "source": [
        "# Read APPL.csv contains open, high, low, close, Adj close, Volume of Apple stock with twitter polarity scores and twitter volume\n",
        "df = pd.read_csv('/content/drive/MyDrive/Futurense Hackaton/AAPL_sentiment.csv', index_col=\"Date\", infer_datetime_format=True, parse_dates=True)\n",
        "\n",
        "# Drop null values\n",
        "df.dropna(inplace=True)\n",
        "df.tail()"
      ],
      "metadata": {
        "colab": {
          "base_uri": "https://localhost:8080/",
          "height": 237
        },
        "id": "ytldrFMLO34_",
        "outputId": "6f478069-9317-402d-8484-e2ff89166276"
      },
      "execution_count": 6,
      "outputs": [
        {
          "output_type": "execute_result",
          "data": {
            "text/plain": [
              "             Open   High    Low  Close  Adj Close     Volume  ts_polarity  \\\n",
              "Date                                                                        \n",
              "2019-08-26  51.47  51.80  51.26  51.62      51.12  104174400     0.072340   \n",
              "2019-08-27  51.97  52.14  50.88  51.04      50.54  103493200     0.117541   \n",
              "2019-08-28  51.03  51.43  50.83  51.38      50.88   63755200     0.061477   \n",
              "2019-08-29  52.13  52.33  51.67  52.25      51.74   83962000     0.056460   \n",
              "2019-08-30  52.54  52.61  51.80  52.19      51.67   84573600     0.106096   \n",
              "\n",
              "            twitter_volume  \n",
              "Date                        \n",
              "2019-08-26           888.0  \n",
              "2019-08-27           962.0  \n",
              "2019-08-28           895.0  \n",
              "2019-08-29          1083.0  \n",
              "2019-08-30          1005.0  "
            ],
            "text/html": [
              "\n",
              "  <div id=\"df-2232a714-6dab-447d-aa92-726a6bc788d0\">\n",
              "    <div class=\"colab-df-container\">\n",
              "      <div>\n",
              "<style scoped>\n",
              "    .dataframe tbody tr th:only-of-type {\n",
              "        vertical-align: middle;\n",
              "    }\n",
              "\n",
              "    .dataframe tbody tr th {\n",
              "        vertical-align: top;\n",
              "    }\n",
              "\n",
              "    .dataframe thead th {\n",
              "        text-align: right;\n",
              "    }\n",
              "</style>\n",
              "<table border=\"1\" class=\"dataframe\">\n",
              "  <thead>\n",
              "    <tr style=\"text-align: right;\">\n",
              "      <th></th>\n",
              "      <th>Open</th>\n",
              "      <th>High</th>\n",
              "      <th>Low</th>\n",
              "      <th>Close</th>\n",
              "      <th>Adj Close</th>\n",
              "      <th>Volume</th>\n",
              "      <th>ts_polarity</th>\n",
              "      <th>twitter_volume</th>\n",
              "    </tr>\n",
              "    <tr>\n",
              "      <th>Date</th>\n",
              "      <th></th>\n",
              "      <th></th>\n",
              "      <th></th>\n",
              "      <th></th>\n",
              "      <th></th>\n",
              "      <th></th>\n",
              "      <th></th>\n",
              "      <th></th>\n",
              "    </tr>\n",
              "  </thead>\n",
              "  <tbody>\n",
              "    <tr>\n",
              "      <th>2019-08-26</th>\n",
              "      <td>51.47</td>\n",
              "      <td>51.80</td>\n",
              "      <td>51.26</td>\n",
              "      <td>51.62</td>\n",
              "      <td>51.12</td>\n",
              "      <td>104174400</td>\n",
              "      <td>0.072340</td>\n",
              "      <td>888.0</td>\n",
              "    </tr>\n",
              "    <tr>\n",
              "      <th>2019-08-27</th>\n",
              "      <td>51.97</td>\n",
              "      <td>52.14</td>\n",
              "      <td>50.88</td>\n",
              "      <td>51.04</td>\n",
              "      <td>50.54</td>\n",
              "      <td>103493200</td>\n",
              "      <td>0.117541</td>\n",
              "      <td>962.0</td>\n",
              "    </tr>\n",
              "    <tr>\n",
              "      <th>2019-08-28</th>\n",
              "      <td>51.03</td>\n",
              "      <td>51.43</td>\n",
              "      <td>50.83</td>\n",
              "      <td>51.38</td>\n",
              "      <td>50.88</td>\n",
              "      <td>63755200</td>\n",
              "      <td>0.061477</td>\n",
              "      <td>895.0</td>\n",
              "    </tr>\n",
              "    <tr>\n",
              "      <th>2019-08-29</th>\n",
              "      <td>52.13</td>\n",
              "      <td>52.33</td>\n",
              "      <td>51.67</td>\n",
              "      <td>52.25</td>\n",
              "      <td>51.74</td>\n",
              "      <td>83962000</td>\n",
              "      <td>0.056460</td>\n",
              "      <td>1083.0</td>\n",
              "    </tr>\n",
              "    <tr>\n",
              "      <th>2019-08-30</th>\n",
              "      <td>52.54</td>\n",
              "      <td>52.61</td>\n",
              "      <td>51.80</td>\n",
              "      <td>52.19</td>\n",
              "      <td>51.67</td>\n",
              "      <td>84573600</td>\n",
              "      <td>0.106096</td>\n",
              "      <td>1005.0</td>\n",
              "    </tr>\n",
              "  </tbody>\n",
              "</table>\n",
              "</div>\n",
              "      <button class=\"colab-df-convert\" onclick=\"convertToInteractive('df-2232a714-6dab-447d-aa92-726a6bc788d0')\"\n",
              "              title=\"Convert this dataframe to an interactive table.\"\n",
              "              style=\"display:none;\">\n",
              "        \n",
              "  <svg xmlns=\"http://www.w3.org/2000/svg\" height=\"24px\"viewBox=\"0 0 24 24\"\n",
              "       width=\"24px\">\n",
              "    <path d=\"M0 0h24v24H0V0z\" fill=\"none\"/>\n",
              "    <path d=\"M18.56 5.44l.94 2.06.94-2.06 2.06-.94-2.06-.94-.94-2.06-.94 2.06-2.06.94zm-11 1L8.5 8.5l.94-2.06 2.06-.94-2.06-.94L8.5 2.5l-.94 2.06-2.06.94zm10 10l.94 2.06.94-2.06 2.06-.94-2.06-.94-.94-2.06-.94 2.06-2.06.94z\"/><path d=\"M17.41 7.96l-1.37-1.37c-.4-.4-.92-.59-1.43-.59-.52 0-1.04.2-1.43.59L10.3 9.45l-7.72 7.72c-.78.78-.78 2.05 0 2.83L4 21.41c.39.39.9.59 1.41.59.51 0 1.02-.2 1.41-.59l7.78-7.78 2.81-2.81c.8-.78.8-2.07 0-2.86zM5.41 20L4 18.59l7.72-7.72 1.47 1.35L5.41 20z\"/>\n",
              "  </svg>\n",
              "      </button>\n",
              "      \n",
              "  <style>\n",
              "    .colab-df-container {\n",
              "      display:flex;\n",
              "      flex-wrap:wrap;\n",
              "      gap: 12px;\n",
              "    }\n",
              "\n",
              "    .colab-df-convert {\n",
              "      background-color: #E8F0FE;\n",
              "      border: none;\n",
              "      border-radius: 50%;\n",
              "      cursor: pointer;\n",
              "      display: none;\n",
              "      fill: #1967D2;\n",
              "      height: 32px;\n",
              "      padding: 0 0 0 0;\n",
              "      width: 32px;\n",
              "    }\n",
              "\n",
              "    .colab-df-convert:hover {\n",
              "      background-color: #E2EBFA;\n",
              "      box-shadow: 0px 1px 2px rgba(60, 64, 67, 0.3), 0px 1px 3px 1px rgba(60, 64, 67, 0.15);\n",
              "      fill: #174EA6;\n",
              "    }\n",
              "\n",
              "    [theme=dark] .colab-df-convert {\n",
              "      background-color: #3B4455;\n",
              "      fill: #D2E3FC;\n",
              "    }\n",
              "\n",
              "    [theme=dark] .colab-df-convert:hover {\n",
              "      background-color: #434B5C;\n",
              "      box-shadow: 0px 1px 3px 1px rgba(0, 0, 0, 0.15);\n",
              "      filter: drop-shadow(0px 1px 2px rgba(0, 0, 0, 0.3));\n",
              "      fill: #FFFFFF;\n",
              "    }\n",
              "  </style>\n",
              "\n",
              "      <script>\n",
              "        const buttonEl =\n",
              "          document.querySelector('#df-2232a714-6dab-447d-aa92-726a6bc788d0 button.colab-df-convert');\n",
              "        buttonEl.style.display =\n",
              "          google.colab.kernel.accessAllowed ? 'block' : 'none';\n",
              "\n",
              "        async function convertToInteractive(key) {\n",
              "          const element = document.querySelector('#df-2232a714-6dab-447d-aa92-726a6bc788d0');\n",
              "          const dataTable =\n",
              "            await google.colab.kernel.invokeFunction('convertToInteractive',\n",
              "                                                     [key], {});\n",
              "          if (!dataTable) return;\n",
              "\n",
              "          const docLinkHtml = 'Like what you see? Visit the ' +\n",
              "            '<a target=\"_blank\" href=https://colab.research.google.com/notebooks/data_table.ipynb>data table notebook</a>'\n",
              "            + ' to learn more about interactive tables.';\n",
              "          element.innerHTML = '';\n",
              "          dataTable['output_type'] = 'display_data';\n",
              "          await google.colab.output.renderOutput(dataTable, element);\n",
              "          const docLink = document.createElement('div');\n",
              "          docLink.innerHTML = docLinkHtml;\n",
              "          element.appendChild(docLink);\n",
              "        }\n",
              "      </script>\n",
              "    </div>\n",
              "  </div>\n",
              "  "
            ]
          },
          "metadata": {},
          "execution_count": 6
        }
      ]
    },
    {
      "cell_type": "code",
      "source": [
        "# Dataframe with Adj close, ts_polarity, twitter_volume of APPL\n",
        "df = df[[\"Adj Close\", \"ts_polarity\", \"twitter_volume\"]]\n",
        "df.head()"
      ],
      "metadata": {
        "colab": {
          "base_uri": "https://localhost:8080/",
          "height": 237
        },
        "id": "x5b_MPB9PHY9",
        "outputId": "99fa41da-7ee9-43e0-e820-22ea4acaf9b9"
      },
      "execution_count": 7,
      "outputs": [
        {
          "output_type": "execute_result",
          "data": {
            "text/plain": [
              "            Adj Close  ts_polarity  twitter_volume\n",
              "Date                                              \n",
              "2016-01-04      24.44     0.070389          1133.0\n",
              "2016-01-05      23.83     0.133635          1430.0\n",
              "2016-01-06      23.36     0.072042          1949.0\n",
              "2016-01-07      22.38     0.074369          2289.0\n",
              "2016-01-08      22.50     0.051595          2235.0"
            ],
            "text/html": [
              "\n",
              "  <div id=\"df-936d28c4-f34e-45bd-a2ae-35debbfb4ba5\">\n",
              "    <div class=\"colab-df-container\">\n",
              "      <div>\n",
              "<style scoped>\n",
              "    .dataframe tbody tr th:only-of-type {\n",
              "        vertical-align: middle;\n",
              "    }\n",
              "\n",
              "    .dataframe tbody tr th {\n",
              "        vertical-align: top;\n",
              "    }\n",
              "\n",
              "    .dataframe thead th {\n",
              "        text-align: right;\n",
              "    }\n",
              "</style>\n",
              "<table border=\"1\" class=\"dataframe\">\n",
              "  <thead>\n",
              "    <tr style=\"text-align: right;\">\n",
              "      <th></th>\n",
              "      <th>Adj Close</th>\n",
              "      <th>ts_polarity</th>\n",
              "      <th>twitter_volume</th>\n",
              "    </tr>\n",
              "    <tr>\n",
              "      <th>Date</th>\n",
              "      <th></th>\n",
              "      <th></th>\n",
              "      <th></th>\n",
              "    </tr>\n",
              "  </thead>\n",
              "  <tbody>\n",
              "    <tr>\n",
              "      <th>2016-01-04</th>\n",
              "      <td>24.44</td>\n",
              "      <td>0.070389</td>\n",
              "      <td>1133.0</td>\n",
              "    </tr>\n",
              "    <tr>\n",
              "      <th>2016-01-05</th>\n",
              "      <td>23.83</td>\n",
              "      <td>0.133635</td>\n",
              "      <td>1430.0</td>\n",
              "    </tr>\n",
              "    <tr>\n",
              "      <th>2016-01-06</th>\n",
              "      <td>23.36</td>\n",
              "      <td>0.072042</td>\n",
              "      <td>1949.0</td>\n",
              "    </tr>\n",
              "    <tr>\n",
              "      <th>2016-01-07</th>\n",
              "      <td>22.38</td>\n",
              "      <td>0.074369</td>\n",
              "      <td>2289.0</td>\n",
              "    </tr>\n",
              "    <tr>\n",
              "      <th>2016-01-08</th>\n",
              "      <td>22.50</td>\n",
              "      <td>0.051595</td>\n",
              "      <td>2235.0</td>\n",
              "    </tr>\n",
              "  </tbody>\n",
              "</table>\n",
              "</div>\n",
              "      <button class=\"colab-df-convert\" onclick=\"convertToInteractive('df-936d28c4-f34e-45bd-a2ae-35debbfb4ba5')\"\n",
              "              title=\"Convert this dataframe to an interactive table.\"\n",
              "              style=\"display:none;\">\n",
              "        \n",
              "  <svg xmlns=\"http://www.w3.org/2000/svg\" height=\"24px\"viewBox=\"0 0 24 24\"\n",
              "       width=\"24px\">\n",
              "    <path d=\"M0 0h24v24H0V0z\" fill=\"none\"/>\n",
              "    <path d=\"M18.56 5.44l.94 2.06.94-2.06 2.06-.94-2.06-.94-.94-2.06-.94 2.06-2.06.94zm-11 1L8.5 8.5l.94-2.06 2.06-.94-2.06-.94L8.5 2.5l-.94 2.06-2.06.94zm10 10l.94 2.06.94-2.06 2.06-.94-2.06-.94-.94-2.06-.94 2.06-2.06.94z\"/><path d=\"M17.41 7.96l-1.37-1.37c-.4-.4-.92-.59-1.43-.59-.52 0-1.04.2-1.43.59L10.3 9.45l-7.72 7.72c-.78.78-.78 2.05 0 2.83L4 21.41c.39.39.9.59 1.41.59.51 0 1.02-.2 1.41-.59l7.78-7.78 2.81-2.81c.8-.78.8-2.07 0-2.86zM5.41 20L4 18.59l7.72-7.72 1.47 1.35L5.41 20z\"/>\n",
              "  </svg>\n",
              "      </button>\n",
              "      \n",
              "  <style>\n",
              "    .colab-df-container {\n",
              "      display:flex;\n",
              "      flex-wrap:wrap;\n",
              "      gap: 12px;\n",
              "    }\n",
              "\n",
              "    .colab-df-convert {\n",
              "      background-color: #E8F0FE;\n",
              "      border: none;\n",
              "      border-radius: 50%;\n",
              "      cursor: pointer;\n",
              "      display: none;\n",
              "      fill: #1967D2;\n",
              "      height: 32px;\n",
              "      padding: 0 0 0 0;\n",
              "      width: 32px;\n",
              "    }\n",
              "\n",
              "    .colab-df-convert:hover {\n",
              "      background-color: #E2EBFA;\n",
              "      box-shadow: 0px 1px 2px rgba(60, 64, 67, 0.3), 0px 1px 3px 1px rgba(60, 64, 67, 0.15);\n",
              "      fill: #174EA6;\n",
              "    }\n",
              "\n",
              "    [theme=dark] .colab-df-convert {\n",
              "      background-color: #3B4455;\n",
              "      fill: #D2E3FC;\n",
              "    }\n",
              "\n",
              "    [theme=dark] .colab-df-convert:hover {\n",
              "      background-color: #434B5C;\n",
              "      box-shadow: 0px 1px 3px 1px rgba(0, 0, 0, 0.15);\n",
              "      filter: drop-shadow(0px 1px 2px rgba(0, 0, 0, 0.3));\n",
              "      fill: #FFFFFF;\n",
              "    }\n",
              "  </style>\n",
              "\n",
              "      <script>\n",
              "        const buttonEl =\n",
              "          document.querySelector('#df-936d28c4-f34e-45bd-a2ae-35debbfb4ba5 button.colab-df-convert');\n",
              "        buttonEl.style.display =\n",
              "          google.colab.kernel.accessAllowed ? 'block' : 'none';\n",
              "\n",
              "        async function convertToInteractive(key) {\n",
              "          const element = document.querySelector('#df-936d28c4-f34e-45bd-a2ae-35debbfb4ba5');\n",
              "          const dataTable =\n",
              "            await google.colab.kernel.invokeFunction('convertToInteractive',\n",
              "                                                     [key], {});\n",
              "          if (!dataTable) return;\n",
              "\n",
              "          const docLinkHtml = 'Like what you see? Visit the ' +\n",
              "            '<a target=\"_blank\" href=https://colab.research.google.com/notebooks/data_table.ipynb>data table notebook</a>'\n",
              "            + ' to learn more about interactive tables.';\n",
              "          element.innerHTML = '';\n",
              "          dataTable['output_type'] = 'display_data';\n",
              "          await google.colab.output.renderOutput(dataTable, element);\n",
              "          const docLink = document.createElement('div');\n",
              "          docLink.innerHTML = docLinkHtml;\n",
              "          element.appendChild(docLink);\n",
              "        }\n",
              "      </script>\n",
              "    </div>\n",
              "  </div>\n",
              "  "
            ]
          },
          "metadata": {},
          "execution_count": 7
        }
      ]
    },
    {
      "cell_type": "code",
      "source": [
        "# pct change based on Adj close value\n",
        "df[\"Pct_change\"] = df[\"Adj Close\"].pct_change()\n",
        "\n",
        "# Drop null values\n",
        "df.dropna(inplace = True)\n",
        "df.head()"
      ],
      "metadata": {
        "colab": {
          "base_uri": "https://localhost:8080/",
          "height": 237
        },
        "id": "0yPqnQr9PJdL",
        "outputId": "178bf414-6e34-4326-f4ef-9d624599a0c6"
      },
      "execution_count": 8,
      "outputs": [
        {
          "output_type": "execute_result",
          "data": {
            "text/plain": [
              "            Adj Close  ts_polarity  twitter_volume  Pct_change\n",
              "Date                                                          \n",
              "2016-01-05      23.83     0.133635          1430.0   -0.024959\n",
              "2016-01-06      23.36     0.072042          1949.0   -0.019723\n",
              "2016-01-07      22.38     0.074369          2289.0   -0.041952\n",
              "2016-01-08      22.50     0.051595          2235.0    0.005362\n",
              "2016-01-11      22.86     0.019443          1222.0    0.016000"
            ],
            "text/html": [
              "\n",
              "  <div id=\"df-274198a9-5988-4a92-8726-4f6f4268235d\">\n",
              "    <div class=\"colab-df-container\">\n",
              "      <div>\n",
              "<style scoped>\n",
              "    .dataframe tbody tr th:only-of-type {\n",
              "        vertical-align: middle;\n",
              "    }\n",
              "\n",
              "    .dataframe tbody tr th {\n",
              "        vertical-align: top;\n",
              "    }\n",
              "\n",
              "    .dataframe thead th {\n",
              "        text-align: right;\n",
              "    }\n",
              "</style>\n",
              "<table border=\"1\" class=\"dataframe\">\n",
              "  <thead>\n",
              "    <tr style=\"text-align: right;\">\n",
              "      <th></th>\n",
              "      <th>Adj Close</th>\n",
              "      <th>ts_polarity</th>\n",
              "      <th>twitter_volume</th>\n",
              "      <th>Pct_change</th>\n",
              "    </tr>\n",
              "    <tr>\n",
              "      <th>Date</th>\n",
              "      <th></th>\n",
              "      <th></th>\n",
              "      <th></th>\n",
              "      <th></th>\n",
              "    </tr>\n",
              "  </thead>\n",
              "  <tbody>\n",
              "    <tr>\n",
              "      <th>2016-01-05</th>\n",
              "      <td>23.83</td>\n",
              "      <td>0.133635</td>\n",
              "      <td>1430.0</td>\n",
              "      <td>-0.024959</td>\n",
              "    </tr>\n",
              "    <tr>\n",
              "      <th>2016-01-06</th>\n",
              "      <td>23.36</td>\n",
              "      <td>0.072042</td>\n",
              "      <td>1949.0</td>\n",
              "      <td>-0.019723</td>\n",
              "    </tr>\n",
              "    <tr>\n",
              "      <th>2016-01-07</th>\n",
              "      <td>22.38</td>\n",
              "      <td>0.074369</td>\n",
              "      <td>2289.0</td>\n",
              "      <td>-0.041952</td>\n",
              "    </tr>\n",
              "    <tr>\n",
              "      <th>2016-01-08</th>\n",
              "      <td>22.50</td>\n",
              "      <td>0.051595</td>\n",
              "      <td>2235.0</td>\n",
              "      <td>0.005362</td>\n",
              "    </tr>\n",
              "    <tr>\n",
              "      <th>2016-01-11</th>\n",
              "      <td>22.86</td>\n",
              "      <td>0.019443</td>\n",
              "      <td>1222.0</td>\n",
              "      <td>0.016000</td>\n",
              "    </tr>\n",
              "  </tbody>\n",
              "</table>\n",
              "</div>\n",
              "      <button class=\"colab-df-convert\" onclick=\"convertToInteractive('df-274198a9-5988-4a92-8726-4f6f4268235d')\"\n",
              "              title=\"Convert this dataframe to an interactive table.\"\n",
              "              style=\"display:none;\">\n",
              "        \n",
              "  <svg xmlns=\"http://www.w3.org/2000/svg\" height=\"24px\"viewBox=\"0 0 24 24\"\n",
              "       width=\"24px\">\n",
              "    <path d=\"M0 0h24v24H0V0z\" fill=\"none\"/>\n",
              "    <path d=\"M18.56 5.44l.94 2.06.94-2.06 2.06-.94-2.06-.94-.94-2.06-.94 2.06-2.06.94zm-11 1L8.5 8.5l.94-2.06 2.06-.94-2.06-.94L8.5 2.5l-.94 2.06-2.06.94zm10 10l.94 2.06.94-2.06 2.06-.94-2.06-.94-.94-2.06-.94 2.06-2.06.94z\"/><path d=\"M17.41 7.96l-1.37-1.37c-.4-.4-.92-.59-1.43-.59-.52 0-1.04.2-1.43.59L10.3 9.45l-7.72 7.72c-.78.78-.78 2.05 0 2.83L4 21.41c.39.39.9.59 1.41.59.51 0 1.02-.2 1.41-.59l7.78-7.78 2.81-2.81c.8-.78.8-2.07 0-2.86zM5.41 20L4 18.59l7.72-7.72 1.47 1.35L5.41 20z\"/>\n",
              "  </svg>\n",
              "      </button>\n",
              "      \n",
              "  <style>\n",
              "    .colab-df-container {\n",
              "      display:flex;\n",
              "      flex-wrap:wrap;\n",
              "      gap: 12px;\n",
              "    }\n",
              "\n",
              "    .colab-df-convert {\n",
              "      background-color: #E8F0FE;\n",
              "      border: none;\n",
              "      border-radius: 50%;\n",
              "      cursor: pointer;\n",
              "      display: none;\n",
              "      fill: #1967D2;\n",
              "      height: 32px;\n",
              "      padding: 0 0 0 0;\n",
              "      width: 32px;\n",
              "    }\n",
              "\n",
              "    .colab-df-convert:hover {\n",
              "      background-color: #E2EBFA;\n",
              "      box-shadow: 0px 1px 2px rgba(60, 64, 67, 0.3), 0px 1px 3px 1px rgba(60, 64, 67, 0.15);\n",
              "      fill: #174EA6;\n",
              "    }\n",
              "\n",
              "    [theme=dark] .colab-df-convert {\n",
              "      background-color: #3B4455;\n",
              "      fill: #D2E3FC;\n",
              "    }\n",
              "\n",
              "    [theme=dark] .colab-df-convert:hover {\n",
              "      background-color: #434B5C;\n",
              "      box-shadow: 0px 1px 3px 1px rgba(0, 0, 0, 0.15);\n",
              "      filter: drop-shadow(0px 1px 2px rgba(0, 0, 0, 0.3));\n",
              "      fill: #FFFFFF;\n",
              "    }\n",
              "  </style>\n",
              "\n",
              "      <script>\n",
              "        const buttonEl =\n",
              "          document.querySelector('#df-274198a9-5988-4a92-8726-4f6f4268235d button.colab-df-convert');\n",
              "        buttonEl.style.display =\n",
              "          google.colab.kernel.accessAllowed ? 'block' : 'none';\n",
              "\n",
              "        async function convertToInteractive(key) {\n",
              "          const element = document.querySelector('#df-274198a9-5988-4a92-8726-4f6f4268235d');\n",
              "          const dataTable =\n",
              "            await google.colab.kernel.invokeFunction('convertToInteractive',\n",
              "                                                     [key], {});\n",
              "          if (!dataTable) return;\n",
              "\n",
              "          const docLinkHtml = 'Like what you see? Visit the ' +\n",
              "            '<a target=\"_blank\" href=https://colab.research.google.com/notebooks/data_table.ipynb>data table notebook</a>'\n",
              "            + ' to learn more about interactive tables.';\n",
              "          element.innerHTML = '';\n",
              "          dataTable['output_type'] = 'display_data';\n",
              "          await google.colab.output.renderOutput(dataTable, element);\n",
              "          const docLink = document.createElement('div');\n",
              "          docLink.innerHTML = docLinkHtml;\n",
              "          element.appendChild(docLink);\n",
              "        }\n",
              "      </script>\n",
              "    </div>\n",
              "  </div>\n",
              "  "
            ]
          },
          "metadata": {},
          "execution_count": 8
        }
      ]
    },
    {
      "cell_type": "code",
      "source": [
        "# This function \"window_data\" accepts the column number for the features (X) and the target (y)\n",
        "# It chunks the data up with a rolling window of Xt-n to predict Xt\n",
        "# It returns a numpy array of X any y\n",
        "def window_data(df, window, feature_col_number1, feature_col_number2, feature_col_number3, target_col_number):\n",
        "    # Create empty lists \"X_close\", \"X_polarity\", \"X_volume\" and y\n",
        "    X_close = []\n",
        "    X_polarity = []\n",
        "    X_volume = []\n",
        "    y = []\n",
        "    for i in range(len(df) - window):\n",
        "        \n",
        "        # Get close, ts_polarity, tw_vol, and target in the loop\n",
        "        close = df.iloc[i:(i + window), feature_col_number1]\n",
        "        ts_polarity = df.iloc[i:(i + window), feature_col_number2]\n",
        "        tw_vol = df.iloc[i:(i + window), feature_col_number3]\n",
        "        target = df.iloc[(i + window), target_col_number]\n",
        "        \n",
        "        # Append values in the lists\n",
        "        X_close.append(close)\n",
        "        X_polarity.append(ts_polarity)\n",
        "        X_volume.append(tw_vol)\n",
        "        y.append(target)\n",
        "        \n",
        "    return np.hstack((X_close,X_polarity,X_volume)), np.array(y).reshape(-1, 1)"
      ],
      "metadata": {
        "id": "K0f0wQMrPK6t"
      },
      "execution_count": 9,
      "outputs": []
    },
    {
      "cell_type": "code",
      "source": [
        "# Predict Closing Prices using a 3 day window of previous closing prices\n",
        "window_size = 3\n",
        "\n",
        "# Column index 0 is the `Adj Close` column\n",
        "# Column index 1 is the `ts_polarity` column\n",
        "# Column index 2 is the `twitter_volume` column\n",
        "feature_col_number1 = 0\n",
        "feature_col_number2 = 1\n",
        "feature_col_number3 = 2\n",
        "target_col_number = 0\n",
        "X, y = window_data(df, window_size, feature_col_number1, feature_col_number2, feature_col_number3, target_col_number)"
      ],
      "metadata": {
        "id": "nFv6d-Q9POMM"
      },
      "execution_count": 10,
      "outputs": []
    },
    {
      "cell_type": "code",
      "source": [
        "# Use 70% of the data for training and the remaineder for testing\n",
        "X_split = int(0.7 * len(X))\n",
        "y_split = int(0.7 * len(y))\n",
        "\n",
        "X_train = X[: X_split]\n",
        "X_test = X[X_split:]\n",
        "y_train = y[: y_split]\n",
        "y_test = y[y_split:]"
      ],
      "metadata": {
        "id": "36WQr0Q9PQ1M"
      },
      "execution_count": 11,
      "outputs": []
    },
    {
      "cell_type": "markdown",
      "source": [
        "**Scaling Data**"
      ],
      "metadata": {
        "id": "uHDH7xp8PUo-"
      }
    },
    {
      "cell_type": "code",
      "source": [
        "from sklearn.preprocessing import MinMaxScaler"
      ],
      "metadata": {
        "id": "Rv_tAbw4PSGv"
      },
      "execution_count": 12,
      "outputs": []
    },
    {
      "cell_type": "code",
      "source": [
        "# Use the MinMaxScaler to scale data between 0 and 1.\n",
        "x_train_scaler = MinMaxScaler()\n",
        "x_test_scaler = MinMaxScaler()\n",
        "y_train_scaler = MinMaxScaler()\n",
        "y_test_scaler = MinMaxScaler()\n",
        "\n",
        "# Fit the scaler for the Training Data\n",
        "x_train_scaler.fit(X_train)\n",
        "y_train_scaler.fit(y_train)\n",
        "\n",
        "# Scale the training data\n",
        "X_train = x_train_scaler.transform(X_train)\n",
        "y_train = y_train_scaler.transform(y_train)\n",
        "\n",
        "# Fit the scaler for the Testing Data\n",
        "x_test_scaler.fit(X_test)\n",
        "y_test_scaler.fit(y_test)\n",
        "\n",
        "# Scale the y_test data\n",
        "X_test = x_test_scaler.transform(X_test)\n",
        "y_test = y_test_scaler.transform(y_test)"
      ],
      "metadata": {
        "id": "GCDDH-WqPY1z"
      },
      "execution_count": 13,
      "outputs": []
    },
    {
      "cell_type": "markdown",
      "source": [
        "**Reshaping Data**"
      ],
      "metadata": {
        "id": "Je2euTCiPawb"
      }
    },
    {
      "cell_type": "code",
      "source": [
        "# Reshape the features for the model\n",
        "X_train = X_train.reshape((X_train.shape[0], X_train.shape[1], 1))\n",
        "X_test = X_test.reshape((X_test.shape[0], X_test.shape[1], 1))"
      ],
      "metadata": {
        "id": "QXJ-GkikPZQT"
      },
      "execution_count": 14,
      "outputs": []
    },
    {
      "cell_type": "code",
      "source": [
        "from tensorflow.keras.models import Sequential\n",
        "from tensorflow.keras.layers import LSTM, Dense, Dropout"
      ],
      "metadata": {
        "id": "tr1pDRNLPlgM"
      },
      "execution_count": 15,
      "outputs": []
    },
    {
      "cell_type": "code",
      "source": [
        "# Build the LSTM model. \n",
        "\n",
        "# Define the LSTM RNN model.\n",
        "model = Sequential()\n",
        "\n",
        "number_units = 9\n",
        "dropout_fraction = 0.2\n",
        "\n",
        "# Layer 1\n",
        "model.add(LSTM(\n",
        "    units=number_units,\n",
        "    return_sequences=True,\n",
        "    input_shape=(X_train.shape[1], 1))\n",
        "    )\n",
        "    \n",
        "model.add(Dropout(dropout_fraction))\n",
        "\n",
        "# Layer 2\n",
        "# The return_sequences parameter needs to set to True every time we add a new LSTM layer, excluding the final layer.\n",
        "model.add(LSTM(units=number_units, return_sequences=True))\n",
        "model.add(Dropout(dropout_fraction))\n",
        "\n",
        "# Layer 3\n",
        "model.add(LSTM(units=number_units))\n",
        "model.add(Dropout(dropout_fraction))\n",
        "\n",
        "# Output layer\n",
        "model.add(Dense(1))"
      ],
      "metadata": {
        "id": "H0wMCW8nPnQW"
      },
      "execution_count": 16,
      "outputs": []
    },
    {
      "cell_type": "code",
      "source": [
        "# Compile the model\n",
        "model.compile(optimizer=\"adam\", loss=\"mean_squared_error\")"
      ],
      "metadata": {
        "id": "gziTHE7YPpmp"
      },
      "execution_count": 17,
      "outputs": []
    },
    {
      "cell_type": "code",
      "source": [
        "# Summarize the model\n",
        "model.summary()"
      ],
      "metadata": {
        "colab": {
          "base_uri": "https://localhost:8080/"
        },
        "id": "czg83hBdPrTo",
        "outputId": "2a02c2e1-aa4f-44a2-e622-a66f811bc91f"
      },
      "execution_count": 18,
      "outputs": [
        {
          "output_type": "stream",
          "name": "stdout",
          "text": [
            "Model: \"sequential\"\n",
            "_________________________________________________________________\n",
            " Layer (type)                Output Shape              Param #   \n",
            "=================================================================\n",
            " lstm (LSTM)                 (None, 9, 9)              396       \n",
            "                                                                 \n",
            " dropout (Dropout)           (None, 9, 9)              0         \n",
            "                                                                 \n",
            " lstm_1 (LSTM)               (None, 9, 9)              684       \n",
            "                                                                 \n",
            " dropout_1 (Dropout)         (None, 9, 9)              0         \n",
            "                                                                 \n",
            " lstm_2 (LSTM)               (None, 9)                 684       \n",
            "                                                                 \n",
            " dropout_2 (Dropout)         (None, 9)                 0         \n",
            "                                                                 \n",
            " dense (Dense)               (None, 1)                 10        \n",
            "                                                                 \n",
            "=================================================================\n",
            "Total params: 1,774\n",
            "Trainable params: 1,774\n",
            "Non-trainable params: 0\n",
            "_________________________________________________________________\n"
          ]
        }
      ]
    },
    {
      "cell_type": "code",
      "source": [
        "# Train the model\n",
        "model.fit(X_train, y_train, epochs=30, shuffle=False, batch_size=5, verbose=1)"
      ],
      "metadata": {
        "colab": {
          "base_uri": "https://localhost:8080/"
        },
        "id": "ZKbsEUNDPsSK",
        "outputId": "bc37e113-c5cd-4ddb-d502-3a7ab957b9da"
      },
      "execution_count": 19,
      "outputs": [
        {
          "output_type": "stream",
          "name": "stdout",
          "text": [
            "Epoch 1/30\n",
            "129/129 [==============================] - 11s 8ms/step - loss: 0.0167\n",
            "Epoch 2/30\n",
            "129/129 [==============================] - 1s 7ms/step - loss: 0.0529\n",
            "Epoch 3/30\n",
            "129/129 [==============================] - 1s 7ms/step - loss: 0.0460\n",
            "Epoch 4/30\n",
            "129/129 [==============================] - 1s 7ms/step - loss: 0.0350\n",
            "Epoch 5/30\n",
            "129/129 [==============================] - 1s 7ms/step - loss: 0.0242\n",
            "Epoch 6/30\n",
            "129/129 [==============================] - 1s 7ms/step - loss: 0.0157\n",
            "Epoch 7/30\n",
            "129/129 [==============================] - 1s 7ms/step - loss: 0.0108\n",
            "Epoch 8/30\n",
            "129/129 [==============================] - 1s 7ms/step - loss: 0.0111\n",
            "Epoch 9/30\n",
            "129/129 [==============================] - 1s 9ms/step - loss: 0.0099\n",
            "Epoch 10/30\n",
            "129/129 [==============================] - 1s 11ms/step - loss: 0.0092\n",
            "Epoch 11/30\n",
            "129/129 [==============================] - 1s 11ms/step - loss: 0.0084\n",
            "Epoch 12/30\n",
            "129/129 [==============================] - 1s 8ms/step - loss: 0.0063\n",
            "Epoch 13/30\n",
            "129/129 [==============================] - 1s 7ms/step - loss: 0.0081\n",
            "Epoch 14/30\n",
            "129/129 [==============================] - 1s 7ms/step - loss: 0.0079\n",
            "Epoch 15/30\n",
            "129/129 [==============================] - 1s 7ms/step - loss: 0.0065\n",
            "Epoch 16/30\n",
            "129/129 [==============================] - 1s 7ms/step - loss: 0.0081\n",
            "Epoch 17/30\n",
            "129/129 [==============================] - 1s 7ms/step - loss: 0.0077\n",
            "Epoch 18/30\n",
            "129/129 [==============================] - 1s 7ms/step - loss: 0.0075\n",
            "Epoch 19/30\n",
            "129/129 [==============================] - 1s 8ms/step - loss: 0.0059\n",
            "Epoch 20/30\n",
            "129/129 [==============================] - 1s 7ms/step - loss: 0.0070\n",
            "Epoch 21/30\n",
            "129/129 [==============================] - 1s 7ms/step - loss: 0.0072\n",
            "Epoch 22/30\n",
            "129/129 [==============================] - 1s 8ms/step - loss: 0.0061\n",
            "Epoch 23/30\n",
            "129/129 [==============================] - 1s 10ms/step - loss: 0.0071\n",
            "Epoch 24/30\n",
            "129/129 [==============================] - 1s 10ms/step - loss: 0.0062\n",
            "Epoch 25/30\n",
            "129/129 [==============================] - 1s 9ms/step - loss: 0.0067\n",
            "Epoch 26/30\n",
            "129/129 [==============================] - 1s 8ms/step - loss: 0.0068\n",
            "Epoch 27/30\n",
            "129/129 [==============================] - 1s 9ms/step - loss: 0.0066\n",
            "Epoch 28/30\n",
            "129/129 [==============================] - 1s 8ms/step - loss: 0.0072\n",
            "Epoch 29/30\n",
            "129/129 [==============================] - 1s 8ms/step - loss: 0.0065\n",
            "Epoch 30/30\n",
            "129/129 [==============================] - 1s 7ms/step - loss: 0.0067\n"
          ]
        },
        {
          "output_type": "execute_result",
          "data": {
            "text/plain": [
              "<keras.callbacks.History at 0x7fc158baf5e0>"
            ]
          },
          "metadata": {},
          "execution_count": 19
        }
      ]
    },
    {
      "cell_type": "code",
      "source": [
        "# Evaluate the model for loss\n",
        "model.evaluate(X_test, y_test)"
      ],
      "metadata": {
        "colab": {
          "base_uri": "https://localhost:8080/"
        },
        "id": "M49xlWwqPwfd",
        "outputId": "64340eb1-ebfc-4ca0-8fd3-4283feddfeff"
      },
      "execution_count": 20,
      "outputs": [
        {
          "output_type": "stream",
          "name": "stdout",
          "text": [
            "9/9 [==============================] - 1s 6ms/step - loss: 0.0112\n"
          ]
        },
        {
          "output_type": "execute_result",
          "data": {
            "text/plain": [
              "0.011154009029269218"
            ]
          },
          "metadata": {},
          "execution_count": 20
        }
      ]
    },
    {
      "cell_type": "code",
      "source": [
        "# Make some predictions\n",
        "predicted = model.predict(X_test)"
      ],
      "metadata": {
        "colab": {
          "base_uri": "https://localhost:8080/"
        },
        "id": "PDHvj9HxP7m8",
        "outputId": "b40198a8-6e53-4e2b-ab7e-c0ebb656ddec"
      },
      "execution_count": 21,
      "outputs": [
        {
          "output_type": "stream",
          "name": "stdout",
          "text": [
            "9/9 [==============================] - 1s 4ms/step\n"
          ]
        }
      ]
    },
    {
      "cell_type": "code",
      "source": [
        "# Evaluating the model\n",
        "print('Root Mean Squared Error:', np.sqrt(metrics.mean_squared_error(y_test, predicted)))\n",
        "print('R-squared :', metrics.r2_score(y_test, predicted))"
      ],
      "metadata": {
        "colab": {
          "base_uri": "https://localhost:8080/"
        },
        "id": "Vj5SES8VQS8d",
        "outputId": "632b880b-8c1f-4eae-fe64-8b57ced5165b"
      },
      "execution_count": 22,
      "outputs": [
        {
          "output_type": "stream",
          "name": "stdout",
          "text": [
            "Root Mean Squared Error: 0.10561253539039543\n",
            "R-squared : 0.7994348108494701\n"
          ]
        }
      ]
    },
    {
      "cell_type": "code",
      "source": [
        "# Recover the original prices instead of the scaled version\n",
        "predicted_prices = y_test_scaler.inverse_transform(predicted)\n",
        "real_prices = y_test_scaler.inverse_transform(y_test.reshape(-1, 1))"
      ],
      "metadata": {
        "id": "69boT40NQUY9"
      },
      "execution_count": 23,
      "outputs": []
    },
    {
      "cell_type": "code",
      "source": [
        "# Create a DataFrame of Real and Predicted values\n",
        "stocks = pd.DataFrame({\n",
        "    \"Real\": real_prices.ravel(),\n",
        "    \"Predicted\": predicted_prices.ravel()\n",
        "}, index = df.index[-len(real_prices): ]) \n",
        "stocks.head()"
      ],
      "metadata": {
        "colab": {
          "base_uri": "https://localhost:8080/",
          "height": 237
        },
        "id": "JnGHldpwQV3e",
        "outputId": "0c366c98-552a-437e-e47b-c01a70eccd5e"
      },
      "execution_count": 24,
      "outputs": [
        {
          "output_type": "execute_result",
          "data": {
            "text/plain": [
              "             Real  Predicted\n",
              "Date                        \n",
              "2018-07-27  46.39  50.465343\n",
              "2018-07-30  46.13  48.947948\n",
              "2018-07-31  46.22  49.604607\n",
              "2018-08-01  48.95  48.516396\n",
              "2018-08-02  50.38  49.428642"
            ],
            "text/html": [
              "\n",
              "  <div id=\"df-cc599c59-0a6f-483f-a891-c546a9626a11\">\n",
              "    <div class=\"colab-df-container\">\n",
              "      <div>\n",
              "<style scoped>\n",
              "    .dataframe tbody tr th:only-of-type {\n",
              "        vertical-align: middle;\n",
              "    }\n",
              "\n",
              "    .dataframe tbody tr th {\n",
              "        vertical-align: top;\n",
              "    }\n",
              "\n",
              "    .dataframe thead th {\n",
              "        text-align: right;\n",
              "    }\n",
              "</style>\n",
              "<table border=\"1\" class=\"dataframe\">\n",
              "  <thead>\n",
              "    <tr style=\"text-align: right;\">\n",
              "      <th></th>\n",
              "      <th>Real</th>\n",
              "      <th>Predicted</th>\n",
              "    </tr>\n",
              "    <tr>\n",
              "      <th>Date</th>\n",
              "      <th></th>\n",
              "      <th></th>\n",
              "    </tr>\n",
              "  </thead>\n",
              "  <tbody>\n",
              "    <tr>\n",
              "      <th>2018-07-27</th>\n",
              "      <td>46.39</td>\n",
              "      <td>50.465343</td>\n",
              "    </tr>\n",
              "    <tr>\n",
              "      <th>2018-07-30</th>\n",
              "      <td>46.13</td>\n",
              "      <td>48.947948</td>\n",
              "    </tr>\n",
              "    <tr>\n",
              "      <th>2018-07-31</th>\n",
              "      <td>46.22</td>\n",
              "      <td>49.604607</td>\n",
              "    </tr>\n",
              "    <tr>\n",
              "      <th>2018-08-01</th>\n",
              "      <td>48.95</td>\n",
              "      <td>48.516396</td>\n",
              "    </tr>\n",
              "    <tr>\n",
              "      <th>2018-08-02</th>\n",
              "      <td>50.38</td>\n",
              "      <td>49.428642</td>\n",
              "    </tr>\n",
              "  </tbody>\n",
              "</table>\n",
              "</div>\n",
              "      <button class=\"colab-df-convert\" onclick=\"convertToInteractive('df-cc599c59-0a6f-483f-a891-c546a9626a11')\"\n",
              "              title=\"Convert this dataframe to an interactive table.\"\n",
              "              style=\"display:none;\">\n",
              "        \n",
              "  <svg xmlns=\"http://www.w3.org/2000/svg\" height=\"24px\"viewBox=\"0 0 24 24\"\n",
              "       width=\"24px\">\n",
              "    <path d=\"M0 0h24v24H0V0z\" fill=\"none\"/>\n",
              "    <path d=\"M18.56 5.44l.94 2.06.94-2.06 2.06-.94-2.06-.94-.94-2.06-.94 2.06-2.06.94zm-11 1L8.5 8.5l.94-2.06 2.06-.94-2.06-.94L8.5 2.5l-.94 2.06-2.06.94zm10 10l.94 2.06.94-2.06 2.06-.94-2.06-.94-.94-2.06-.94 2.06-2.06.94z\"/><path d=\"M17.41 7.96l-1.37-1.37c-.4-.4-.92-.59-1.43-.59-.52 0-1.04.2-1.43.59L10.3 9.45l-7.72 7.72c-.78.78-.78 2.05 0 2.83L4 21.41c.39.39.9.59 1.41.59.51 0 1.02-.2 1.41-.59l7.78-7.78 2.81-2.81c.8-.78.8-2.07 0-2.86zM5.41 20L4 18.59l7.72-7.72 1.47 1.35L5.41 20z\"/>\n",
              "  </svg>\n",
              "      </button>\n",
              "      \n",
              "  <style>\n",
              "    .colab-df-container {\n",
              "      display:flex;\n",
              "      flex-wrap:wrap;\n",
              "      gap: 12px;\n",
              "    }\n",
              "\n",
              "    .colab-df-convert {\n",
              "      background-color: #E8F0FE;\n",
              "      border: none;\n",
              "      border-radius: 50%;\n",
              "      cursor: pointer;\n",
              "      display: none;\n",
              "      fill: #1967D2;\n",
              "      height: 32px;\n",
              "      padding: 0 0 0 0;\n",
              "      width: 32px;\n",
              "    }\n",
              "\n",
              "    .colab-df-convert:hover {\n",
              "      background-color: #E2EBFA;\n",
              "      box-shadow: 0px 1px 2px rgba(60, 64, 67, 0.3), 0px 1px 3px 1px rgba(60, 64, 67, 0.15);\n",
              "      fill: #174EA6;\n",
              "    }\n",
              "\n",
              "    [theme=dark] .colab-df-convert {\n",
              "      background-color: #3B4455;\n",
              "      fill: #D2E3FC;\n",
              "    }\n",
              "\n",
              "    [theme=dark] .colab-df-convert:hover {\n",
              "      background-color: #434B5C;\n",
              "      box-shadow: 0px 1px 3px 1px rgba(0, 0, 0, 0.15);\n",
              "      filter: drop-shadow(0px 1px 2px rgba(0, 0, 0, 0.3));\n",
              "      fill: #FFFFFF;\n",
              "    }\n",
              "  </style>\n",
              "\n",
              "      <script>\n",
              "        const buttonEl =\n",
              "          document.querySelector('#df-cc599c59-0a6f-483f-a891-c546a9626a11 button.colab-df-convert');\n",
              "        buttonEl.style.display =\n",
              "          google.colab.kernel.accessAllowed ? 'block' : 'none';\n",
              "\n",
              "        async function convertToInteractive(key) {\n",
              "          const element = document.querySelector('#df-cc599c59-0a6f-483f-a891-c546a9626a11');\n",
              "          const dataTable =\n",
              "            await google.colab.kernel.invokeFunction('convertToInteractive',\n",
              "                                                     [key], {});\n",
              "          if (!dataTable) return;\n",
              "\n",
              "          const docLinkHtml = 'Like what you see? Visit the ' +\n",
              "            '<a target=\"_blank\" href=https://colab.research.google.com/notebooks/data_table.ipynb>data table notebook</a>'\n",
              "            + ' to learn more about interactive tables.';\n",
              "          element.innerHTML = '';\n",
              "          dataTable['output_type'] = 'display_data';\n",
              "          await google.colab.output.renderOutput(dataTable, element);\n",
              "          const docLink = document.createElement('div');\n",
              "          docLink.innerHTML = docLinkHtml;\n",
              "          element.appendChild(docLink);\n",
              "        }\n",
              "      </script>\n",
              "    </div>\n",
              "  </div>\n",
              "  "
            ]
          },
          "metadata": {},
          "execution_count": 24
        }
      ]
    },
    {
      "cell_type": "code",
      "source": [
        "import matplotlib.pyplot as plt\n",
        "plt.plot(stocks.index, stocks[\"Real\"], label=\"Real\")\n",
        "plt.plot(stocks.index, stocks[\"Predicted\"], label=\"Predicted\")\n",
        "\n",
        "# add axis labels and legend\n",
        "plt.xlabel(\"Date\")\n",
        "plt.ylabel(\"Price\")\n",
        "plt.legend()\n",
        "\n",
        "# display the plot\n",
        "plt.show()"
      ],
      "metadata": {
        "colab": {
          "base_uri": "https://localhost:8080/",
          "height": 449
        },
        "id": "DpbFWqHTQXSI",
        "outputId": "e2156e39-4723-4f57-8cce-571b46af5dd8"
      },
      "execution_count": 25,
      "outputs": [
        {
          "output_type": "display_data",
          "data": {
            "text/plain": [
              "<Figure size 640x480 with 1 Axes>"
            ],
            "image/png": "[encoded data removed]"
          },
          "metadata": {}
        }
      ]
    },
    {
      "cell_type": "code",
      "source": [
        "import os\n",
        "model.save(os.path.join('/content/drive/MyDrive/models','Apple_stock_market_model'))"
      ],
      "metadata": {
        "colab": {
          "base_uri": "https://localhost:8080/"
        },
        "id": "U50uPLu0Q9Hl",
        "outputId": "083c2d68-a490-49bf-b4cd-85b8dfd4c922"
      },
      "execution_count": 26,
      "outputs": [
        {
          "output_type": "stream",
          "name": "stderr",
          "text": [
            "WARNING:absl:Found untraced functions such as lstm_cell_layer_call_fn, lstm_cell_layer_call_and_return_conditional_losses, lstm_cell_1_layer_call_fn, lstm_cell_1_layer_call_and_return_conditional_losses, lstm_cell_2_layer_call_fn while saving (showing 5 of 6). These functions will not be directly callable after loading.\n"
          ]
        }
      ]
    },
    {
      "cell_type": "code",
      "source": [],
      "metadata": {
        "id": "TqIF-lj9SqWF"
      },
      "execution_count": null,
      "outputs": []
    }
  ]
}